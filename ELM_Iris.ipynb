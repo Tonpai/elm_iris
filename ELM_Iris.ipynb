{
  "nbformat": 4,
  "nbformat_minor": 0,
  "metadata": {
    "colab": {
      "name": "ELM_Iris.ipynb",
      "provenance": [],
      "collapsed_sections": []
    },
    "kernelspec": {
      "name": "python3",
      "display_name": "Python 3"
    }
  },
  "cells": [
    {
      "cell_type": "markdown",
      "metadata": {
        "id": "08ZBmgZKL0v3"
      },
      "source": [
        "# **Extreme Learning Machine**\n",
        "- Pseudoinverse\n",
        "- Classification Problem\n",
        "- Iris dataset"
      ]
    },
    {
      "cell_type": "code",
      "metadata": {
        "id": "HG0KTyZpIok2"
      },
      "source": [
        "import numpy as np\n",
        "import numpy.matlib as matlib\n",
        "\n",
        "from sklearn import datasets\n",
        "from sklearn.preprocessing import MinMaxScaler"
      ],
      "execution_count": 1,
      "outputs": []
    },
    {
      "cell_type": "code",
      "metadata": {
        "id": "zYBNmXb5MUpX"
      },
      "source": [
        "# import iris data\n",
        "# dataset is also be an numpy array object.\n",
        "iris = datasets.load_iris()\n",
        "x_train = iris.data\n",
        "y_train = iris.target\n",
        "\n",
        "scaler = MinMaxScaler(feature_range=(0, 1))\n",
        "x_train = scaler.fit_transform(x_train)\n",
        "y_train_onehot = np.eye(np.max(y_train) + 1)[y_train]\n",
        "\n",
        "# data description\n",
        "data_size = np.size(x_train, axis=0)\n",
        "data_feature_size = np.size(x_train, axis=1)\n",
        "target_feature_size = np.size(y_train_onehot, axis=1)\n",
        "\n",
        "# swap data\n",
        "swap_idx = np.random.permutation(data_size)\n",
        "x_train = x_train[swap_idx]\n",
        "y_train = y_train[swap_idx]\n",
        "y_train_onehot = y_train_onehot[swap_idx]"
      ],
      "execution_count": 2,
      "outputs": []
    },
    {
      "cell_type": "code",
      "metadata": {
        "id": "Ug2WOszaMZqr"
      },
      "source": [
        "# Train-Test Set ELM\n",
        "train_set_size_percent = 2/3\n",
        "train_set_size = int(data_size * train_set_size_percent)\n",
        "test_set_size = data_size - train_set_size\n",
        "\n",
        "# Train set\n",
        "x_train_set = x_train[:train_set_size, :]\n",
        "y_train_set_onehot = y_train_onehot[:train_set_size, :]\n",
        "y_train_set = y_train[:train_set_size]\n",
        "\n",
        "# Test set\n",
        "x_test_set = x_train[train_set_size:, :]\n",
        "y_test_set_onehot = y_train_onehot[train_set_size:, :]\n",
        "y_test_set = y_train[train_set_size:]"
      ],
      "execution_count": 3,
      "outputs": []
    },
    {
      "cell_type": "code",
      "metadata": {
        "id": "5XhbSDawOB3S",
        "outputId": "d1aa868a-fd1e-494f-a7a7-36268d64b298",
        "colab": {
          "base_uri": "https://localhost:8080/"
        }
      },
      "source": [
        "y_test_set"
      ],
      "execution_count": 4,
      "outputs": [
        {
          "output_type": "execute_result",
          "data": {
            "text/plain": [
              "array([1, 0, 1, 0, 1, 2, 2, 0, 2, 2, 1, 0, 0, 0, 2, 1, 1, 2, 2, 0, 0, 1,\n",
              "       0, 0, 2, 1, 2, 0, 1, 2, 1, 0, 1, 1, 0, 2, 2, 0, 2, 1, 1, 1, 2, 0,\n",
              "       2, 1, 2, 1, 2, 1])"
            ]
          },
          "metadata": {
            "tags": []
          },
          "execution_count": 4
        }
      ]
    },
    {
      "cell_type": "code",
      "metadata": {
        "id": "1cyuNz5hPN0L"
      },
      "source": [
        "def mse(A, B):\n",
        "  return (np.square(np.sum(A - B, axis=1))).mean(axis=0)\n",
        "\n",
        "# Activation Function\n",
        "def sigmoid(x):\n",
        "  return 1/(1 + np.exp(-x))"
      ],
      "execution_count": 5,
      "outputs": []
    },
    {
      "cell_type": "code",
      "metadata": {
        "id": "yr6fnI0IMX5p",
        "outputId": "a52f979e-5858-440e-915f-cd6a35939633",
        "colab": {
          "base_uri": "https://localhost:8080/"
        }
      },
      "source": [
        "hidden_node_size=8\n",
        "# Initialization model & Training\n",
        "# hidden layer weight\n",
        "elm_hidden_w = wi = np.random.rand(data_feature_size, hidden_node_size)\n",
        "elm_hidden_bias_w = np.random.rand(1, hidden_node_size)\n",
        "\n",
        "hidden_layer = sigmoid(x_train_set @ elm_hidden_w + matlib.repmat(elm_hidden_bias_w, train_set_size, 1))\n",
        "\n",
        "# output layer weight\n",
        "elm_output_w = np.linalg.pinv(hidden_layer) @ y_train_set_onehot\n",
        "\n",
        "elm_output_w"
      ],
      "execution_count": 6,
      "outputs": [
        {
          "output_type": "execute_result",
          "data": {
            "text/plain": [
              "array([[ -52.86508817,  176.77003332, -129.64196772],\n",
              "       [ -33.39213552,  317.84841972, -277.2990621 ],\n",
              "       [ -15.65163735, -160.54537387,  166.76861825],\n",
              "       [ -27.85074022,  105.86103284,  -74.9940242 ],\n",
              "       [  38.43761235,  -53.20742012,   17.84721373],\n",
              "       [ -20.63115092,   25.35364721,   -7.49870508],\n",
              "       [ 145.86390127, -535.03288294,  393.88881775],\n",
              "       [ -34.04999517,  122.31411293,  -87.42340112]])"
            ]
          },
          "metadata": {
            "tags": []
          },
          "execution_count": 6
        }
      ]
    },
    {
      "cell_type": "code",
      "metadata": {
        "id": "Cw5g_lTTQrtJ",
        "outputId": "bf116b6c-7bb9-4627-93e5-4a6aa49c6ad7",
        "colab": {
          "base_uri": "https://localhost:8080/"
        }
      },
      "source": [
        "# Evaluation model - Train set\n",
        "hidden_layer = sigmoid(x_train_set @ elm_hidden_w + matlib.repmat(elm_hidden_bias_w, train_set_size, 1))\n",
        "output_layer = np.dot(hidden_layer , elm_output_w)\n",
        "\n",
        "predict = np.argmax(output_layer, axis=1)\n",
        "mse_val = mse(y_train_set_onehot, output_layer)\n",
        "\n",
        "acc_val = (y_train_set == predict).sum() / train_set_size\n",
        "\n",
        "print('Accuracy Train Set: {}'.format(acc_val))\n",
        "print('MSE Train Set: {}'.format(mse_val))"
      ],
      "execution_count": 7,
      "outputs": [
        {
          "output_type": "stream",
          "text": [
            "Accuracy Train Set: 0.96\n",
            "MSE Train Set: 4.341384658255754e-06\n",
            "y_train_set: [1 0 2 2 0 1 0 2 1 0 1 1 2 1 2 1 1 0 1 0 1 0 2 2 2 1 2 2 0 0 0 2 1 1 1 0 0\n",
            " 1 1 1 0 2 2 2 0 0 2 0 2 1 2 2 2 0 2 0 0 0 0 0 1 2 2 2 0 2 1 0 2 0 0 2 0 1\n",
            " 1 2 2 1 1 2 0 1 2 2 1 2 1 2 0 0 1 0 1 1 0 0 0 0 1 1]\n",
            "predict: [1 0 2 2 0 1 0 2 1 0 1 1 2 1 2 1 1 0 1 0 1 0 2 2 1 1 2 2 0 0 0 2 1 1 1 0 0\n",
            " 1 1 1 0 2 2 2 0 0 2 0 1 1 2 2 2 0 2 0 0 0 0 0 1 2 1 2 0 2 1 0 2 0 0 2 0 1\n",
            " 1 2 2 1 1 2 0 1 2 2 1 2 1 2 0 0 1 0 1 2 0 0 0 0 1 1]\n"
          ],
          "name": "stdout"
        }
      ]
    },
    {
      "cell_type": "code",
      "metadata": {
        "id": "13WgXbydRnxJ",
        "outputId": "f08c1aeb-a5e0-4fc1-ae93-942a68fc7e2d",
        "colab": {
          "base_uri": "https://localhost:8080/"
        }
      },
      "source": [
        "# Evaluation model - Test set\n",
        "hidden_layer = sigmoid(x_test_set @ elm_hidden_w + matlib.repmat(elm_hidden_bias_w, test_set_size, 1))\n",
        "output_layer = np.dot(hidden_layer , elm_output_w)\n",
        "\n",
        "predict = np.argmax(output_layer, axis=1)\n",
        "mse_val = mse(y_test_set_onehot, output_layer)\n",
        "\n",
        "acc_val = (y_test_set == predict).sum() / test_set_size\n",
        "\n",
        "print('Accuracy Test Set: {}'.format(acc_val))\n",
        "print('MSE Test Set: {}'.format(mse_val))"
      ],
      "execution_count": 10,
      "outputs": [
        {
          "output_type": "stream",
          "text": [
            "Accuracy Test Set: 0.94\n",
            "MSE Test Set: 3.4264205995090073e-06\n"
          ],
          "name": "stdout"
        }
      ]
    }
  ]
}